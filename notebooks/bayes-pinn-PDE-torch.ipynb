{
  "cells": [
    {
      "cell_type": "code",
      "source": [
        "import torch\n",
        "import numpy as np\n",
        "from numpy.ma.core import outer\n",
        "from sys import stderr\n",
        "import torch.nn as nn\n",
        "import torch.nn.functional as F\n",
        "import torch.optim as optim\n",
        "from scipy import stats\n",
        "import matplotlib.pyplot as plt\n",
        "from matplotlib.pyplot import scatter, figure\n",
        "from torch.utils.data import TensorDataset, DataLoader\n",
        "import pandas as pd\n",
        "import seaborn as sns\n",
        "sns.set(rc={'figure.figsize':(4, 4)})\n",
        "\n",
        "import warnings\n",
        "\n",
        "warnings.filterwarnings('ignore')"
      ],
      "metadata": {
        "id": "OO8qnSbBJput"
      },
      "execution_count": 1,
      "outputs": []
    },
    {
      "cell_type": "code",
      "source": [
        "batch_size = 3"
      ],
      "metadata": {
        "id": "5f8rI3kLJtfm"
      },
      "execution_count": 2,
      "outputs": []
    },
    {
      "cell_type": "code",
      "execution_count": 20,
      "metadata": {
        "id": "i-KEbxEITsHF"
      },
      "outputs": [],
      "source": [
        "class Experiment(nn.Module):\n",
        "    def __init__(self):\n",
        "        super(Experiment, self).__init__()\n",
        "\n",
        "        self.optimizer = None\n",
        "        self.train_loss_history = []\n",
        "        self.w_ic   =  1   # w for initial condition\n",
        "        self.w_int  = 1   # w for internal term of the loss function (data free)\n",
        "        self.w_data = 1   # weight for the term in loss function corresponding to data\n",
        "        self.w_bc   = 1   # boundary condition\n",
        "        self.numInputs = 2\n",
        "        self.numParams = 2\n",
        "        self.numOutputs = 1\n",
        "\n",
        "\n",
        "        self.hidden_size = 25\n",
        "\n",
        "        self.t0 = torch.tensor([0.0], requires_grad=True).to(device)\n",
        "        self.y0 = torch.tensor([1.0], requires_grad=True).to(device) #??\n",
        "\n",
        "        self.predicted_params = torch.zeros(self.numParams, requires_grad=True)\n",
        "\n",
        "\n",
        "        # We only have 1 input feature\n",
        "        self.b1 = nn.Linear(self.numInputs, self.hidden_size ).to(device)\n",
        "        self.b2 = nn.Linear(self.hidden_size, self.hidden_size).to(device)\n",
        "        self.b3 = nn.Linear(self.hidden_size, self.numOutputs).to(device)\n",
        "\n",
        "        self.t1 = nn.Linear(1, self.hidden_size).to(device)\n",
        "        self.t2 = nn.Linear(self.hidden_size, self.hidden_size).to(device)\n",
        "        self.t3 = nn.Linear(self.hidden_size, self.numParams).to(device)\n",
        "\n",
        "        nn.init.ones_(self.b1.weight)\n",
        "        nn.init.ones_(self.b2.weight)\n",
        "        nn.init.ones_(self.b3.weight)\n",
        "\n",
        "        nn.init.ones_(self.t1.weight)\n",
        "        nn.init.ones_(self.t2.weight)\n",
        "        nn.init.ones_(self.t3.weight)\n",
        "\n",
        "    # make this static so that it can be called independently\n",
        "    @staticmethod\n",
        "    def exact_solution(t, x):\n",
        "        return torch.exp(-t) * torch.sin(torch.pi * x)\n",
        "\n",
        "\n",
        "    def forward(self, t, x):\n",
        "        if not torch.is_tensor(t):\n",
        "            t = torch.from_numpy(t)\n",
        "\n",
        "        if not torch.is_tensor(x):\n",
        "            x = torch.from_numpy(x).to(device)\n",
        "\n",
        "        t = t.float().to(device)\n",
        "        x = x.float().to(device)\n",
        "\n",
        "        input = torch.cat((t, x), 1)\n",
        "\n",
        "        h1 = torch.tanh(self.b1(input))\n",
        "        h2 = torch.tanh(self.b2(h1))\n",
        "\n",
        "        prior_param_sample = torch.rand(1,1).to(device).requires_grad_(True)\n",
        "\n",
        "        t1 = torch.tanh(self.t1(prior_param_sample))\n",
        "        t2 = torch.tanh(self.t2(t1))\n",
        "        posterior_param_sample =  self.t3(t2)\n",
        "        self.predicted_params  =  posterior_param_sample.squeeze()\n",
        "        # posterior_param_sample = self.t3(torch.multiply(t2,h2))\n",
        "\n",
        "        y  = self.b3(torch.multiply(t2,h2))\n",
        "\n",
        "        return y\n",
        "\n",
        "    def sample_parameter_posterior(self, num_samples=100):\n",
        "        prior_param_sample     = torch.rand(num_samples,1).to(device).requires_grad_(True)\n",
        "        posterior_param_sample = \\\n",
        "           self.t3(torch.tanh(self.t2(torch.tanh(self.t1(prior_param_sample)))))\n",
        "\n",
        "        return posterior_param_sample\n",
        "\n",
        "    def compute_derivative(self, y, x, n):\n",
        "        # General formula to compute the n-th order derivative of y = f(x) with respect to x\n",
        "        if n == 0:\n",
        "            return y\n",
        "        else:\n",
        "            dy_dx = torch.autograd.grad(y, x, torch.ones_like(y).to(device),\n",
        "                                        create_graph=True, retain_graph=True,\n",
        "                                        allow_unused=True)[0]\n",
        "\n",
        "        return self.compute_derivative(dy_dx, x, n - 1)\n",
        "\n",
        "\n",
        "    def PDE_residual(self, t, x):\n",
        "        y = self.forward(t, x)\n",
        "        dy_dt = self.compute_derivative(y, t, 1)\n",
        "        dy_dx = self.compute_derivative(y, x, 1)\n",
        "        d2y_dx2 = self.compute_derivative(y, x, 2)\n",
        "\n",
        "        residual = dy_dt - self.predicted_params[1] * d2y_dx2 \\\n",
        "            + torch.exp(-self.predicted_params[0] * t) * (torch.sin(torch.tensor(np.pi) * x) - torch.tensor(np.pi) ** 2 * torch.sin(torch.tensor(np.pi) * x))\n",
        "\n",
        "        return residual\n",
        "\n",
        "    def loss_initial_condition(self, num_samples=200):\n",
        "        t0 = self.t0 * torch.ones((num_samples, 1)).to(device)\n",
        "        x = torch.FloatTensor(num_samples, 1).uniform_(-1, 1).to(device).requires_grad_(True)\n",
        "        y0_pred = self.forward(t0, x)\n",
        "\n",
        "        # Use the exact_solution function to calculate the true y0 values\n",
        "        # y0_true = torch.tensor(self.exact_solution(t0.detach().cpu().numpy(), x.detach().cpu().numpy())).to(device)\n",
        "        y0_true = self.exact_solution(t0, x)\n",
        "\n",
        "        loss_ic = torch.mean(torch.square(y0_true - y0_pred))\n",
        "\n",
        "        return loss_ic\n",
        "\n",
        "\n",
        "    def loss_boundary_condition(self, num_samples = 200):\n",
        "        x_low      = -1\n",
        "        x_high     =  1\n",
        "        xb_low     = x_low  * torch.ones((num_samples,1), device=device)\n",
        "        xb_high    = x_high * torch.ones((num_samples,1), device=device)\n",
        "        t          = torch.FloatTensor(num_samples,1).uniform_(-1, 1).to(device)\n",
        "\n",
        "        yb_low = self.exact_solution(t, xb_low)\n",
        "        yb_high = self.exact_solution(t, xb_high)\n",
        "\n",
        "        yb_pred_low    = self.forward(t,xb_low)\n",
        "        yb_pred_high   = self.forward(t,xb_high)\n",
        "\n",
        "        loss_ic    = torch.mean(torch.square( yb_pred_low - yb_low)) \\\n",
        "                   + torch.mean(torch.square( yb_pred_high - yb_high))\n",
        "\n",
        "        return loss_ic\n",
        "\n",
        "    def compute_losses(self):\n",
        "\n",
        "        loss_ic       = self.loss_initial_condition()\n",
        "        loss_interior = self.loss_interior()\n",
        "        loss_data     = self.loss_data()\n",
        "        loss_bc       = self.loss_boundary_condition()\n",
        "\n",
        "        return loss_ic, loss_interior, loss_data, loss_bc\n",
        "\n",
        "\n",
        "    def loss_data(self, num_samples = 50):\n",
        "        # t_data = torch.linspace(0,1,num_samples).reshape(-1,1).to(device).requires_grad_(True)\n",
        "        # y_data = torch.exp(-2.0*t_data)\n",
        "        t_data, x_data, y_data = next(iter(train_loader))\n",
        "        y_pred = self.forward(t_data.to(device), x_data.to(device))\n",
        "        loss   = torch.mean(torch.square(y_pred-y_data.to(device)))\n",
        "\n",
        "        return loss\n",
        "\n",
        "    def loss_interior(self, num_samples = 800):\n",
        "        interior_t_samples = torch.FloatTensor(num_samples, 1).uniform_(0, 1).to(device).requires_grad_(True)\n",
        "        interior_x_samples = torch.FloatTensor(num_samples, 1).uniform_(-1, 1).to(device).requires_grad_(True)\n",
        "\n",
        "        res           = self.PDE_residual(interior_t_samples, interior_x_samples)\n",
        "        loss_residual = torch.mean(torch.square(res))\n",
        "\n",
        "        return loss_residual\n",
        "\n",
        "    def closure(self):\n",
        "        self.optimizer.zero_grad()\n",
        "        loss_ic, loss_interior, loss_data, loss_bc = self.compute_losses()\n",
        "        total_loss = self.w_ic*loss_ic \\\n",
        "                   + self.w_int*loss_interior\\\n",
        "                   + self.w_data*loss_data \\\n",
        "                   + self.w_bc*loss_bc\n",
        "\n",
        "        total_loss.backward(retain_graph=True)\n",
        "\n",
        "        return total_loss\n",
        "\n",
        "    def train(self, epochs, optimizer='Adam', **kwargs):\n",
        "\n",
        "        if optimizer=='Adam':\n",
        "            self.optimizer = torch.optim.Adam(self.parameters(), **kwargs)\n",
        "\n",
        "        elif optimizer=='L-BFGS':\n",
        "            self.optimizer = torch.optim.LBFGS(self.parameters(), **kwargs)\n",
        "\n",
        "        # Training loop\n",
        "        for epoch in range(epochs):\n",
        "\n",
        "\n",
        "            self.optimizer.step(self.closure)\n",
        "\n",
        "            if epoch % 4000 == 0:\n",
        "                loss_ic, loss_interior, loss_data, loss_bc = self.compute_losses()\n",
        "                total_loss = loss_ic + loss_interior + loss_data + loss_bc\n",
        "\n",
        "                print(f'Epoch ({optimizer}): {epoch}, Total Loss: {total_loss.detach().cpu().numpy()}')\n",
        "\n",
        "    def make_plot(self):\n",
        "\n",
        "        t_test, x_test, y_test    = sample_dataset(noise=0.0)\n",
        "        mu = self.forward(t_test, x_test)\n",
        "\n",
        "        fig = plt.figure(figsize=(6,3))\n",
        "        ax1 = plt.subplot(121)\n",
        "        ax2 = plt.subplot(122, sharex = ax1)\n",
        "        size = int(np.sqrt(x_test.shape[0]))\n",
        "\n",
        "        ax1.contourf(t_test.reshape(size,size),\n",
        "                     x_test.reshape(size,size),\n",
        "                     mu.detach().numpy().reshape(size,size))\n",
        "        plt.xlabel('t'); plt.ylabel('x');\n",
        "        ax1.get_shared_x_axes().join(ax1, ax2)\n",
        "\n",
        "        ax2.contourf(t_test.reshape(size,size),\n",
        "                     x_test.reshape(size,size),\n",
        "                     y_test.reshape(size,size))\n",
        "\n",
        "\n",
        "        # plt.colorbar();\n",
        "\n",
        "    # def get_training_history(self):\n",
        "    #     loss_hist = np.array(self.train_loss_history)\n",
        "    #     total_loss, loss_ic, loss_interior, loss_data = np.split(loss_hist, 3, axis=1)\n",
        "    #     return total_loss, loss_ic, loss_interior, loss_data\n",
        "\n",
        "\n",
        "    # def compute_Jacobina(self, x):\n",
        "    #     self.dy_dx = torch.autograd.functional.jacobian(self, x, create_graph=True)\n",
        "    #     self.dy_dx = torch.squeeze(self.dy_dx)\n",
        "    #     return self.dy_dx\n"
      ]
    },
    {
      "cell_type": "code",
      "source": [
        "def sample_dataset(noise=0.1, numSamples=100):\n",
        "    t = torch.linspace(0, 1, numSamples)  # Time domain\n",
        "    x = torch.linspace(-1, 1, numSamples)  # Space domain\n",
        "\n",
        "    T, X = torch.meshgrid(t, x)  # space-time domain\n",
        "\n",
        "    y_true = Experiment.exact_solution(T, X)\n",
        "    T = T.reshape(-1, 1)  # Reshape to 2D to 1D\n",
        "    X = X.reshape(-1, 1)  # Reshape to 2D to 1D\n",
        "\n",
        "    sample_mean = y_true.reshape(-1, 1)\n",
        "    sample_var = noise * torch.ones_like(sample_mean)\n",
        "    Y_noisy = torch.normal(sample_mean, sample_var)\n",
        "\n",
        "    return T, X, Y_noisy\n",
        "\n",
        "\n",
        "\n",
        "def create_train_test_datasets():\n",
        "    t_train, x_train, y_train = sample_dataset(noise=0.01, numSamples=10)\n",
        "    t_test, x_test, y_test = sample_dataset(noise=0.0, numSamples=100)\n",
        "\n",
        "    fig = plt.figure()\n",
        "    size = int(t_test.size(0)**0.5)\n",
        "\n",
        "    plt.contourf(t_test.view(size, size),\n",
        "                 x_test.view(size, size),\n",
        "                 y_test.view(size, size))\n",
        "    plt.xlabel('t'); plt.ylabel('x');\n",
        "    plt.colorbar()\n",
        "\n",
        "    train_dataset = TensorDataset(t_train, x_train, y_train)\n",
        "    train_loader = DataLoader(train_dataset, batch_size=batch_size, shuffle=True)\n",
        "\n",
        "    test_dataset = TensorDataset(t_test, x_test, y_test)\n",
        "    test_loader = DataLoader(test_dataset, batch_size=batch_size, shuffle=True)\n",
        "\n",
        "    return train_loader, test_loader"
      ],
      "metadata": {
        "id": "wHvi2l0EMbXi"
      },
      "execution_count": 21,
      "outputs": []
    },
    {
      "cell_type": "code",
      "source": [
        "train_loader, test_loader = create_train_test_datasets()"
      ],
      "metadata": {
        "colab": {
          "base_uri": "https://localhost:8080/",
          "height": 402
        },
        "id": "ZU1nM2kgMvb8",
        "outputId": "0fb8be31-5c8a-4b24-c585-ecb88f5eeb7f"
      },
      "execution_count": 22,
      "outputs": [
        {
          "output_type": "display_data",
          "data": {
            "text/plain": [
              "<Figure size 400x400 with 2 Axes>"
            ],
            "image/png": "[encoded data removed]"
          },
          "metadata": {}
        }
      ]
    },
    {
      "cell_type": "code",
      "source": [
        "device = torch.device(\"cuda:0\" if torch.cuda.is_available() else \"cpu\")\n",
        "print(device)\n",
        "# working on gpu and mps"
      ],
      "metadata": {
        "colab": {
          "base_uri": "https://localhost:8080/"
        },
        "id": "MlnsqOC9M0Pd",
        "outputId": "6d99b76c-6b01-4263-f8d3-a08eb65e4837"
      },
      "execution_count": 24,
      "outputs": [
        {
          "output_type": "stream",
          "name": "stdout",
          "text": [
            "cuda:0\n"
          ]
        }
      ]
    },
    {
      "cell_type": "code",
      "source": [
        "net = Experiment()\n",
        "print(\"Params:\", sum(p.numel() for p in net.parameters() if p.requires_grad))"
      ],
      "metadata": {
        "colab": {
          "base_uri": "https://localhost:8080/"
        },
        "id": "3_epxB0uM2uL",
        "outputId": "f960c934-c45e-40c2-bda9-a84f46207cc6"
      },
      "execution_count": 25,
      "outputs": [
        {
          "output_type": "stream",
          "name": "stdout",
          "text": [
            "Params: 1503\n"
          ]
        }
      ]
    },
    {
      "cell_type": "code",
      "source": [
        "net.w_ic=1\n",
        "net.w_data =1"
      ],
      "metadata": {
        "id": "G_GCWYv7M7WV"
      },
      "execution_count": 26,
      "outputs": []
    },
    {
      "cell_type": "code",
      "source": [
        "net.train(80000, lr=1e-2)"
      ],
      "metadata": {
        "colab": {
          "base_uri": "https://localhost:8080/",
          "height": 363
        },
        "id": "STxSOkf4M9zo",
        "outputId": "d3793e14-bc79-4e80-9d60-006ea8a1426e"
      },
      "execution_count": 27,
      "outputs": [
        {
          "output_type": "stream",
          "name": "stdout",
          "text": [
            "Epoch (Adam): 0, Total Loss: 1381526016.0\n",
            "Epoch (Adam): 4000, Total Loss: 50014.34765625\n"
          ]
        },
        {
          "output_type": "error",
          "ename": "KeyboardInterrupt",
          "evalue": "ignored",
          "traceback": [
            "\u001b[0;31m---------------------------------------------------------------------------\u001b[0m",
            "\u001b[0;31mKeyboardInterrupt\u001b[0m                         Traceback (most recent call last)",
            "\u001b[0;32m<ipython-input-27-52e206b26b14>\u001b[0m in \u001b[0;36m<cell line: 1>\u001b[0;34m()\u001b[0m\n\u001b[0;32m----> 1\u001b[0;31m \u001b[0mnet\u001b[0m\u001b[0;34m.\u001b[0m\u001b[0mtrain\u001b[0m\u001b[0;34m(\u001b[0m\u001b[0;36m80000\u001b[0m\u001b[0;34m,\u001b[0m \u001b[0mlr\u001b[0m\u001b[0;34m=\u001b[0m\u001b[0;36m1e-2\u001b[0m\u001b[0;34m)\u001b[0m\u001b[0;34m\u001b[0m\u001b[0;34m\u001b[0m\u001b[0m\n\u001b[0m",
            "\u001b[0;32m<ipython-input-20-61626079d158>\u001b[0m in \u001b[0;36mtrain\u001b[0;34m(self, epochs, optimizer, **kwargs)\u001b[0m\n\u001b[1;32m    186\u001b[0m \u001b[0;34m\u001b[0m\u001b[0m\n\u001b[1;32m    187\u001b[0m \u001b[0;34m\u001b[0m\u001b[0m\n\u001b[0;32m--> 188\u001b[0;31m             \u001b[0mself\u001b[0m\u001b[0;34m.\u001b[0m\u001b[0moptimizer\u001b[0m\u001b[0;34m.\u001b[0m\u001b[0mstep\u001b[0m\u001b[0;34m(\u001b[0m\u001b[0mself\u001b[0m\u001b[0;34m.\u001b[0m\u001b[0mclosure\u001b[0m\u001b[0;34m)\u001b[0m\u001b[0;34m\u001b[0m\u001b[0;34m\u001b[0m\u001b[0m\n\u001b[0m\u001b[1;32m    189\u001b[0m \u001b[0;34m\u001b[0m\u001b[0m\n\u001b[1;32m    190\u001b[0m             \u001b[0;32mif\u001b[0m \u001b[0mepoch\u001b[0m \u001b[0;34m%\u001b[0m \u001b[0;36m4000\u001b[0m \u001b[0;34m==\u001b[0m \u001b[0;36m0\u001b[0m\u001b[0;34m:\u001b[0m\u001b[0;34m\u001b[0m\u001b[0;34m\u001b[0m\u001b[0m\n",
            "\u001b[0;32m/usr/local/lib/python3.10/dist-packages/torch/optim/optimizer.py\u001b[0m in \u001b[0;36mwrapper\u001b[0;34m(*args, **kwargs)\u001b[0m\n\u001b[1;32m    371\u001b[0m                             )\n\u001b[1;32m    372\u001b[0m \u001b[0;34m\u001b[0m\u001b[0m\n\u001b[0;32m--> 373\u001b[0;31m                 \u001b[0mout\u001b[0m \u001b[0;34m=\u001b[0m \u001b[0mfunc\u001b[0m\u001b[0;34m(\u001b[0m\u001b[0;34m*\u001b[0m\u001b[0margs\u001b[0m\u001b[0;34m,\u001b[0m \u001b[0;34m**\u001b[0m\u001b[0mkwargs\u001b[0m\u001b[0;34m)\u001b[0m\u001b[0;34m\u001b[0m\u001b[0;34m\u001b[0m\u001b[0m\n\u001b[0m\u001b[1;32m    374\u001b[0m                 \u001b[0mself\u001b[0m\u001b[0;34m.\u001b[0m\u001b[0m_optimizer_step_code\u001b[0m\u001b[0;34m(\u001b[0m\u001b[0;34m)\u001b[0m\u001b[0;34m\u001b[0m\u001b[0;34m\u001b[0m\u001b[0m\n\u001b[1;32m    375\u001b[0m \u001b[0;34m\u001b[0m\u001b[0m\n",
            "\u001b[0;32m/usr/local/lib/python3.10/dist-packages/torch/optim/optimizer.py\u001b[0m in \u001b[0;36m_use_grad\u001b[0;34m(self, *args, **kwargs)\u001b[0m\n\u001b[1;32m     74\u001b[0m             \u001b[0mtorch\u001b[0m\u001b[0;34m.\u001b[0m\u001b[0mset_grad_enabled\u001b[0m\u001b[0;34m(\u001b[0m\u001b[0mself\u001b[0m\u001b[0;34m.\u001b[0m\u001b[0mdefaults\u001b[0m\u001b[0;34m[\u001b[0m\u001b[0;34m'differentiable'\u001b[0m\u001b[0;34m]\u001b[0m\u001b[0;34m)\u001b[0m\u001b[0;34m\u001b[0m\u001b[0;34m\u001b[0m\u001b[0m\n\u001b[1;32m     75\u001b[0m             \u001b[0mtorch\u001b[0m\u001b[0;34m.\u001b[0m\u001b[0m_dynamo\u001b[0m\u001b[0;34m.\u001b[0m\u001b[0mgraph_break\u001b[0m\u001b[0;34m(\u001b[0m\u001b[0;34m)\u001b[0m\u001b[0;34m\u001b[0m\u001b[0;34m\u001b[0m\u001b[0m\n\u001b[0;32m---> 76\u001b[0;31m             \u001b[0mret\u001b[0m \u001b[0;34m=\u001b[0m \u001b[0mfunc\u001b[0m\u001b[0;34m(\u001b[0m\u001b[0mself\u001b[0m\u001b[0;34m,\u001b[0m \u001b[0;34m*\u001b[0m\u001b[0margs\u001b[0m\u001b[0;34m,\u001b[0m \u001b[0;34m**\u001b[0m\u001b[0mkwargs\u001b[0m\u001b[0;34m)\u001b[0m\u001b[0;34m\u001b[0m\u001b[0;34m\u001b[0m\u001b[0m\n\u001b[0m\u001b[1;32m     77\u001b[0m         \u001b[0;32mfinally\u001b[0m\u001b[0;34m:\u001b[0m\u001b[0;34m\u001b[0m\u001b[0;34m\u001b[0m\u001b[0m\n\u001b[1;32m     78\u001b[0m             \u001b[0mtorch\u001b[0m\u001b[0;34m.\u001b[0m\u001b[0m_dynamo\u001b[0m\u001b[0;34m.\u001b[0m\u001b[0mgraph_break\u001b[0m\u001b[0;34m(\u001b[0m\u001b[0;34m)\u001b[0m\u001b[0;34m\u001b[0m\u001b[0;34m\u001b[0m\u001b[0m\n",
            "\u001b[0;32m/usr/local/lib/python3.10/dist-packages/torch/optim/adam.py\u001b[0m in \u001b[0;36mstep\u001b[0;34m(self, closure)\u001b[0m\n\u001b[1;32m    141\u001b[0m         \u001b[0;32mif\u001b[0m \u001b[0mclosure\u001b[0m \u001b[0;32mis\u001b[0m \u001b[0;32mnot\u001b[0m \u001b[0;32mNone\u001b[0m\u001b[0;34m:\u001b[0m\u001b[0;34m\u001b[0m\u001b[0;34m\u001b[0m\u001b[0m\n\u001b[1;32m    142\u001b[0m             \u001b[0;32mwith\u001b[0m \u001b[0mtorch\u001b[0m\u001b[0;34m.\u001b[0m\u001b[0menable_grad\u001b[0m\u001b[0;34m(\u001b[0m\u001b[0;34m)\u001b[0m\u001b[0;34m:\u001b[0m\u001b[0;34m\u001b[0m\u001b[0;34m\u001b[0m\u001b[0m\n\u001b[0;32m--> 143\u001b[0;31m                 \u001b[0mloss\u001b[0m \u001b[0;34m=\u001b[0m \u001b[0mclosure\u001b[0m\u001b[0;34m(\u001b[0m\u001b[0;34m)\u001b[0m\u001b[0;34m\u001b[0m\u001b[0;34m\u001b[0m\u001b[0m\n\u001b[0m\u001b[1;32m    144\u001b[0m \u001b[0;34m\u001b[0m\u001b[0m\n\u001b[1;32m    145\u001b[0m         \u001b[0;32mfor\u001b[0m \u001b[0mgroup\u001b[0m \u001b[0;32min\u001b[0m \u001b[0mself\u001b[0m\u001b[0;34m.\u001b[0m\u001b[0mparam_groups\u001b[0m\u001b[0;34m:\u001b[0m\u001b[0;34m\u001b[0m\u001b[0;34m\u001b[0m\u001b[0m\n",
            "\u001b[0;32m<ipython-input-20-61626079d158>\u001b[0m in \u001b[0;36mclosure\u001b[0;34m(self)\u001b[0m\n\u001b[1;32m    164\u001b[0m     \u001b[0;32mdef\u001b[0m \u001b[0mclosure\u001b[0m\u001b[0;34m(\u001b[0m\u001b[0mself\u001b[0m\u001b[0;34m)\u001b[0m\u001b[0;34m:\u001b[0m\u001b[0;34m\u001b[0m\u001b[0;34m\u001b[0m\u001b[0m\n\u001b[1;32m    165\u001b[0m         \u001b[0mself\u001b[0m\u001b[0;34m.\u001b[0m\u001b[0moptimizer\u001b[0m\u001b[0;34m.\u001b[0m\u001b[0mzero_grad\u001b[0m\u001b[0;34m(\u001b[0m\u001b[0;34m)\u001b[0m\u001b[0;34m\u001b[0m\u001b[0;34m\u001b[0m\u001b[0m\n\u001b[0;32m--> 166\u001b[0;31m         \u001b[0mloss_ic\u001b[0m\u001b[0;34m,\u001b[0m \u001b[0mloss_interior\u001b[0m\u001b[0;34m,\u001b[0m \u001b[0mloss_data\u001b[0m\u001b[0;34m,\u001b[0m \u001b[0mloss_bc\u001b[0m \u001b[0;34m=\u001b[0m \u001b[0mself\u001b[0m\u001b[0;34m.\u001b[0m\u001b[0mcompute_losses\u001b[0m\u001b[0;34m(\u001b[0m\u001b[0;34m)\u001b[0m\u001b[0;34m\u001b[0m\u001b[0;34m\u001b[0m\u001b[0m\n\u001b[0m\u001b[1;32m    167\u001b[0m         \u001b[0mtotal_loss\u001b[0m \u001b[0;34m=\u001b[0m \u001b[0mself\u001b[0m\u001b[0;34m.\u001b[0m\u001b[0mw_ic\u001b[0m\u001b[0;34m*\u001b[0m\u001b[0mloss_ic\u001b[0m\u001b[0;31m \u001b[0m\u001b[0;31m\\\u001b[0m\u001b[0;34m\u001b[0m\u001b[0;34m\u001b[0m\u001b[0m\n\u001b[1;32m    168\u001b[0m                    \u001b[0;34m+\u001b[0m \u001b[0mself\u001b[0m\u001b[0;34m.\u001b[0m\u001b[0mw_int\u001b[0m\u001b[0;34m*\u001b[0m\u001b[0mloss_interior\u001b[0m\u001b[0;31m\\\u001b[0m\u001b[0;34m\u001b[0m\u001b[0;34m\u001b[0m\u001b[0m\n",
            "\u001b[0;32m<ipython-input-20-61626079d158>\u001b[0m in \u001b[0;36mcompute_losses\u001b[0;34m(self)\u001b[0m\n\u001b[1;32m    139\u001b[0m         \u001b[0mloss_interior\u001b[0m \u001b[0;34m=\u001b[0m \u001b[0mself\u001b[0m\u001b[0;34m.\u001b[0m\u001b[0mloss_interior\u001b[0m\u001b[0;34m(\u001b[0m\u001b[0;34m)\u001b[0m\u001b[0;34m\u001b[0m\u001b[0;34m\u001b[0m\u001b[0m\n\u001b[1;32m    140\u001b[0m         \u001b[0mloss_data\u001b[0m     \u001b[0;34m=\u001b[0m \u001b[0mself\u001b[0m\u001b[0;34m.\u001b[0m\u001b[0mloss_data\u001b[0m\u001b[0;34m(\u001b[0m\u001b[0;34m)\u001b[0m\u001b[0;34m\u001b[0m\u001b[0;34m\u001b[0m\u001b[0m\n\u001b[0;32m--> 141\u001b[0;31m         \u001b[0mloss_bc\u001b[0m       \u001b[0;34m=\u001b[0m \u001b[0mself\u001b[0m\u001b[0;34m.\u001b[0m\u001b[0mloss_boundary_condition\u001b[0m\u001b[0;34m(\u001b[0m\u001b[0;34m)\u001b[0m\u001b[0;34m\u001b[0m\u001b[0;34m\u001b[0m\u001b[0m\n\u001b[0m\u001b[1;32m    142\u001b[0m \u001b[0;34m\u001b[0m\u001b[0m\n\u001b[1;32m    143\u001b[0m         \u001b[0;32mreturn\u001b[0m \u001b[0mloss_ic\u001b[0m\u001b[0;34m,\u001b[0m \u001b[0mloss_interior\u001b[0m\u001b[0;34m,\u001b[0m \u001b[0mloss_data\u001b[0m\u001b[0;34m,\u001b[0m \u001b[0mloss_bc\u001b[0m\u001b[0;34m\u001b[0m\u001b[0;34m\u001b[0m\u001b[0m\n",
            "\u001b[0;32m<ipython-input-20-61626079d158>\u001b[0m in \u001b[0;36mloss_boundary_condition\u001b[0;34m(self, num_samples)\u001b[0m\n\u001b[1;32m    126\u001b[0m         \u001b[0myb_high\u001b[0m \u001b[0;34m=\u001b[0m \u001b[0mself\u001b[0m\u001b[0;34m.\u001b[0m\u001b[0mexact_solution\u001b[0m\u001b[0;34m(\u001b[0m\u001b[0mt\u001b[0m\u001b[0;34m,\u001b[0m \u001b[0mxb_high\u001b[0m\u001b[0;34m)\u001b[0m\u001b[0;34m\u001b[0m\u001b[0;34m\u001b[0m\u001b[0m\n\u001b[1;32m    127\u001b[0m \u001b[0;34m\u001b[0m\u001b[0m\n\u001b[0;32m--> 128\u001b[0;31m         \u001b[0myb_pred_low\u001b[0m    \u001b[0;34m=\u001b[0m \u001b[0mself\u001b[0m\u001b[0;34m.\u001b[0m\u001b[0mforward\u001b[0m\u001b[0;34m(\u001b[0m\u001b[0mt\u001b[0m\u001b[0;34m,\u001b[0m\u001b[0mxb_low\u001b[0m\u001b[0;34m)\u001b[0m\u001b[0;34m\u001b[0m\u001b[0;34m\u001b[0m\u001b[0m\n\u001b[0m\u001b[1;32m    129\u001b[0m         \u001b[0myb_pred_high\u001b[0m   \u001b[0;34m=\u001b[0m \u001b[0mself\u001b[0m\u001b[0;34m.\u001b[0m\u001b[0mforward\u001b[0m\u001b[0;34m(\u001b[0m\u001b[0mt\u001b[0m\u001b[0;34m,\u001b[0m\u001b[0mxb_high\u001b[0m\u001b[0;34m)\u001b[0m\u001b[0;34m\u001b[0m\u001b[0;34m\u001b[0m\u001b[0m\n\u001b[1;32m    130\u001b[0m \u001b[0;34m\u001b[0m\u001b[0m\n",
            "\u001b[0;32m<ipython-input-20-61626079d158>\u001b[0m in \u001b[0;36mforward\u001b[0;34m(self, t, x)\u001b[0m\n\u001b[1;32m     63\u001b[0m \u001b[0;34m\u001b[0m\u001b[0m\n\u001b[1;32m     64\u001b[0m         \u001b[0mt1\u001b[0m \u001b[0;34m=\u001b[0m \u001b[0mtorch\u001b[0m\u001b[0;34m.\u001b[0m\u001b[0mtanh\u001b[0m\u001b[0;34m(\u001b[0m\u001b[0mself\u001b[0m\u001b[0;34m.\u001b[0m\u001b[0mt1\u001b[0m\u001b[0;34m(\u001b[0m\u001b[0mprior_param_sample\u001b[0m\u001b[0;34m)\u001b[0m\u001b[0;34m)\u001b[0m\u001b[0;34m\u001b[0m\u001b[0;34m\u001b[0m\u001b[0m\n\u001b[0;32m---> 65\u001b[0;31m         \u001b[0mt2\u001b[0m \u001b[0;34m=\u001b[0m \u001b[0mtorch\u001b[0m\u001b[0;34m.\u001b[0m\u001b[0mtanh\u001b[0m\u001b[0;34m(\u001b[0m\u001b[0mself\u001b[0m\u001b[0;34m.\u001b[0m\u001b[0mt2\u001b[0m\u001b[0;34m(\u001b[0m\u001b[0mt1\u001b[0m\u001b[0;34m)\u001b[0m\u001b[0;34m)\u001b[0m\u001b[0;34m\u001b[0m\u001b[0;34m\u001b[0m\u001b[0m\n\u001b[0m\u001b[1;32m     66\u001b[0m         \u001b[0mposterior_param_sample\u001b[0m \u001b[0;34m=\u001b[0m  \u001b[0mself\u001b[0m\u001b[0;34m.\u001b[0m\u001b[0mt3\u001b[0m\u001b[0;34m(\u001b[0m\u001b[0mt2\u001b[0m\u001b[0;34m)\u001b[0m\u001b[0;34m\u001b[0m\u001b[0;34m\u001b[0m\u001b[0m\n\u001b[1;32m     67\u001b[0m         \u001b[0mself\u001b[0m\u001b[0;34m.\u001b[0m\u001b[0mpredicted_params\u001b[0m  \u001b[0;34m=\u001b[0m  \u001b[0mposterior_param_sample\u001b[0m\u001b[0;34m.\u001b[0m\u001b[0msqueeze\u001b[0m\u001b[0;34m(\u001b[0m\u001b[0;34m)\u001b[0m\u001b[0;34m\u001b[0m\u001b[0;34m\u001b[0m\u001b[0m\n",
            "\u001b[0;31mKeyboardInterrupt\u001b[0m: "
          ]
        }
      ]
    },
    {
      "cell_type": "code",
      "source": [
        "net.make_plot()\n",
        "samples = net.sample_parameter_posterior(num_samples=1000).detach().cpu()"
      ],
      "metadata": {
        "id": "u9tZYCP8NA4c"
      },
      "execution_count": null,
      "outputs": []
    },
    {
      "cell_type": "code",
      "source": [
        "samples"
      ],
      "metadata": {
        "id": "v_vEgRzQNSQ0"
      },
      "execution_count": null,
      "outputs": []
    },
    {
      "cell_type": "code",
      "source": [
        "samples.mean(axis=0), samples.std(axis=0)"
      ],
      "metadata": {
        "colab": {
          "base_uri": "https://localhost:8080/"
        },
        "id": "6iOvJSAsNVje",
        "outputId": "a93f8bc2-6fd2-4644-a657-7984dd8e56ee"
      },
      "execution_count": null,
      "outputs": [
        {
          "output_type": "execute_result",
          "data": {
            "text/plain": [
              "(tensor([32.6538,  0.1351]), tensor([0.0102, 0.0003]))"
            ]
          },
          "metadata": {},
          "execution_count": 14
        }
      ]
    },
    {
      "cell_type": "code",
      "source": [
        "g  = sns.kdeplot(samples, fill=True, palette=\"crest\",\n",
        "                 alpha=.5, linewidth=1)\n",
        "net.predicted_params"
      ],
      "metadata": {
        "colab": {
          "base_uri": "https://localhost:8080/",
          "height": 390
        },
        "id": "iA27hNxHMo9G",
        "outputId": "c337cc15-3536-4045-e653-73979046eaa5"
      },
      "execution_count": null,
      "outputs": [
        {
          "output_type": "execute_result",
          "data": {
            "text/plain": [
              "tensor([32.6564,  0.1351], grad_fn=<SqueezeBackward0>)"
            ]
          },
          "metadata": {},
          "execution_count": 15
        },
        {
          "output_type": "display_data",
          "data": {
            "text/plain": [
              "<Figure size 400x400 with 1 Axes>"
            ],
            "image/png": "[encoded data removed]"
          },
          "metadata": {}
        }
      ]
    },
    {
      "cell_type": "code",
      "source": [
        "x, t, y  = next(iter(train_loader))\n",
        "net(t, x) - Experiment.exact_solution(t,x)"
      ],
      "metadata": {
        "colab": {
          "base_uri": "https://localhost:8080/"
        },
        "id": "0LuUdJaoNWvw",
        "outputId": "893dc040-b3d0-427d-fe7d-ec8db0206827"
      },
      "execution_count": null,
      "outputs": [
        {
          "output_type": "execute_result",
          "data": {
            "text/plain": [
              "tensor([[ 0.0041],\n",
              "        [-1.8717],\n",
              "        [ 0.0640]], grad_fn=<SubBackward0>)"
            ]
          },
          "metadata": {},
          "execution_count": 16
        }
      ]
    },
    {
      "cell_type": "code",
      "source": [
        "x = torch.linspace(-1, 1, 100).reshape(-1, 1)\n",
        "t = torch.linspace(0, 1, 100).reshape(-1, 1)\n",
        "\n",
        "X, T = torch.meshgrid(x[:, 0], t[:, 0])\n",
        "\n",
        "y_true = Experiment.exact_solution(T, X)"
      ],
      "metadata": {
        "id": "HptDl2ESNU-9"
      },
      "execution_count": null,
      "outputs": []
    },
    {
      "cell_type": "code",
      "source": [
        "net(t,x);"
      ],
      "metadata": {
        "id": "7Ab-3NEqNes_"
      },
      "execution_count": null,
      "outputs": []
    }
  ],
  "metadata": {
    "colab": {
      "provenance": [],
      "gpuType": "T4"
    },
    "kernelspec": {
      "display_name": "Python 3",
      "name": "python3"
    },
    "language_info": {
      "name": "python"
    },
    "accelerator": "GPU"
  },
  "nbformat": 4,
  "nbformat_minor": 0
}